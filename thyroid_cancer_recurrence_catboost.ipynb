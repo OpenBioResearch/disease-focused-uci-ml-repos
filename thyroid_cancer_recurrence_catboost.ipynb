{
  "nbformat": 4,
  "nbformat_minor": 0,
  "metadata": {
    "colab": {
      "private_outputs": true,
      "provenance": [],
      "authorship_tag": "ABX9TyPbeWZGb6AJ4AH4C6K3erUv"
    },
    "kernelspec": {
      "name": "python3",
      "display_name": "Python 3"
    },
    "language_info": {
      "name": "python"
    }
  },
  "cells": [
    {
      "cell_type": "markdown",
      "source": [
        "# Leveraging CatBoost to identify features in recurrence\n",
        "\n",
        "This notebook leverages CatBoost to analyze clinicopathologic features from a thyroid cancer dataset. The primary goal is to identify the most significant features influencing thyroid cancer recurrence. The notebook will leverage GPU whenever performance can be boosted.  A pdf findings summary will be provided.\n",
        "\n",
        "## UCI Dataset\n",
        "\n",
        "Dataset: [UCI Machine Learning Repository - Differentiated Thyroid Cancer Recurrence Dataset](https://archive.ics.uci.edu/dataset/915/differentiated+thyroid+cancer+recurrence)\n",
        "\n",
        "Citation: Borzooei,Shiva and Tarokhian,Aidin. (2023). Differentiated Thyroid Cancer Recurrence. UCI Machine Learning Repository. https://doi.org/10.24432/C5632J.\n",
        "\n",
        "## Google colab\n",
        "\n",
        "You may run this notebook on Google Colab by clicking the \"Open in Colab\" badge below:\n",
        "\n",
        "[![Open In Colab](https://colab.research.google.com/assets/colab-badge.svg)](https://colab.research.google.com/github/OpenBioResearch/disease-focused-uci-ml-repos/blob/main/thyroid_cancer_recurrence_catboost.ipynb)\n"
      ],
      "metadata": {
        "id": "JWWBaTvfbiSN"
      }
    },
    {
      "cell_type": "code",
      "execution_count": null,
      "metadata": {
        "id": "U4Vlo07JYf2o"
      },
      "outputs": [],
      "source": [
        "# Import necessary libraries\n",
        "\n",
        "import pandas as pd\n",
        "import matplotlib.pyplot as plt\n",
        "import seaborn as sns"
      ]
    },
    {
      "cell_type": "code",
      "source": [
        "# Install ucimlrepo package\n",
        "\n",
        "!pip install ucimlrepo\n",
        "\n",
        "from ucimlrepo import fetch_ucirepo\n",
        "\n",
        "# Fetch dataset from UCI ML Repository\n",
        "differentiated_thyroid_cancer_recurrence = fetch_ucirepo(id=915)\n",
        "\n",
        "# Data (as pandas dataframes)\n",
        "X = differentiated_thyroid_cancer_recurrence.data.features\n",
        "y = differentiated_thyroid_cancer_recurrence.data.targets\n",
        "\n",
        "print(differentiated_thyroid_cancer_recurrence.metadata)\n",
        "print(differentiated_thyroid_cancer_recurrence.variables)"
      ],
      "metadata": {
        "id": "F6eMXIRDch-U"
      },
      "execution_count": null,
      "outputs": []
    },
    {
      "cell_type": "code",
      "source": [
        "# Features and target dataframe\n",
        "\n",
        "print(\"Features dataframe (X):\")\n",
        "display(X.head())\n",
        "\n",
        "print(\"Target dataframe (y):\")\n",
        "display(y.head())"
      ],
      "metadata": {
        "id": "vTZUt2k1s78u"
      },
      "execution_count": null,
      "outputs": []
    },
    {
      "cell_type": "code",
      "source": [
        "# splits the data into training and testing sets.\n",
        "\n",
        "missing_values_X = X.isnull().sum()\n",
        "missing_values_y = y.isnull().sum()\n",
        "print(\"Missing values in features (X):\\n\", missing_values_X)\n",
        "print(\"Missing values in target (y):\\n\", missing_values_y)\n",
        "\n",
        "for column in X.columns:\n",
        "    if X[column].dtype == 'object':\n",
        "        X[column].fillna(X[column].mode()[0], inplace=True)\n",
        "    else:\n",
        "        X[column].fillna(X[column].median(), inplace=True)\n",
        "\n",
        "# Encode categorical features using one-hot encoding\n",
        "X_encoded = pd.get_dummies(X, drop_first=True)\n",
        "\n",
        "# Split the data into training and testing sets\n",
        "from sklearn.model_selection import train_test_split\n",
        "X_train, X_test, y_train, y_test = train_test_split(X_encoded, y, test_size=0.2, random_state=42)\n",
        "\n",
        "print(\"-------------------\")\n",
        "print(\"Data Split Summary:\")\n",
        "print(f\"Training Set: {len(X_train)} samples\")\n",
        "print(f\"Testing Set: {len(X_test)} samples\")\n",
        "print(\"-------------------\")\n",
        "print(\"Data preprocessing complete. Ready for modeling.\")\n"
      ],
      "metadata": {
        "id": "uh6T2DSDtDZm"
      },
      "execution_count": null,
      "outputs": []
    },
    {
      "cell_type": "code",
      "source": [
        "# Model Training with CatBoost\n",
        "!pip install catboost\n",
        "\n",
        "from catboost import CatBoostClassifier, Pool\n",
        "from sklearn.metrics import accuracy_score, classification_report\n",
        "import torch\n",
        "\n",
        "# Check for GPU availability and set device\n",
        "if torch.cuda.is_available():\n",
        "    device = torch.device('cuda')\n",
        "    task_type = \"GPU\"\n",
        "    print(\"Training on GPU\")\n",
        "else:\n",
        "    device = torch.device('cpu')\n",
        "    task_type = \"CPU\"\n",
        "    print(\"Training on CPU\")\n",
        "\n",
        "# Initialize the CatBoostClassifier\n",
        "model = CatBoostClassifier(\n",
        "    iterations=1000,\n",
        "    learning_rate=0.1,\n",
        "    depth=6,\n",
        "    task_type=task_type\n",
        ")\n",
        "\n",
        "# Prepare the Pool data structure for CatBoost\n",
        "train_pool = Pool(X_train, y_train)\n",
        "test_pool = Pool(X_test, y_test)\n",
        "\n",
        "# Train the model with a progress indicator\n",
        "model.fit(train_pool, eval_set=test_pool, verbose=100, plot=True)\n",
        "\n",
        "y_pred = model.predict(X_test)\n",
        "\n",
        "accuracy = accuracy_score(y_test, y_pred)\n",
        "report = classification_report(y_test, y_pred)\n",
        "\n",
        "print(f\"Accuracy: {accuracy}\")\n",
        "print(f\"Classification Report:\\n{report}\")\n",
        "\n"
      ],
      "metadata": {
        "id": "GXxawGnkwde7"
      },
      "execution_count": null,
      "outputs": []
    },
    {
      "cell_type": "code",
      "source": [
        "from sklearn.metrics import confusion_matrix\n",
        "\n",
        "def generate_feature_importance_report(model, X_train):\n",
        "    # Get feature importances\n",
        "    feature_importances = model.get_feature_importance(Pool(X_train, y_train))\n",
        "    feature_names = X_train.columns\n",
        "\n",
        "    # Create a DataFrame for feature importances\n",
        "    importance_df = pd.DataFrame({\n",
        "        'Feature': feature_names,\n",
        "        'Importance': feature_importances\n",
        "    }).sort_values(by='Importance', ascending=False)\n",
        "\n",
        "    display(importance_df)\n",
        "\n",
        "    plt.figure(figsize=(12, 10))\n",
        "    plt.barh(importance_df['Feature'], importance_df['Importance'])\n",
        "    plt.xlabel(\"Feature Importance\")\n",
        "    plt.title(\"Detailed Feature Importance Analysis\")\n",
        "    plt.gca().invert_yaxis()  # Invert y-axis to show the most important feature at the top\n",
        "    plt.show()\n",
        "\n",
        "    return importance_df\n",
        "\n",
        "# Generate the feature importance report\n",
        "importance_df = generate_feature_importance_report(model, X_train)\n",
        "\n",
        "# Calculate the confusion matrix\n",
        "cm = confusion_matrix(y_test, y_pred)\n",
        "\n",
        "plt.figure(figsize=(10, 7))\n",
        "sns.heatmap(cm, annot=True, fmt='d', cmap='Blues')\n",
        "plt.xlabel('Predicted')\n",
        "plt.ylabel('Actual')\n",
        "plt.title('Confusion Matrix')\n",
        "plt.show()\n",
        "\n",
        "y_pred_proba = model.predict_proba(X_test)[:, 1]\n",
        "\n",
        "plt.figure(figsize=(10, 7))\n",
        "sns.histplot(y_pred_proba, bins=30, kde=True)\n",
        "plt.xlabel('Predicted Probability of Recurrence')\n",
        "plt.title('Distribution of Predicted Probabilities')\n",
        "plt.show()\n"
      ],
      "metadata": {
        "id": "Gt7yMoa1DHac"
      },
      "execution_count": null,
      "outputs": []
    },
    {
      "cell_type": "code",
      "source": [
        "!pip install fpdf\n",
        "from fpdf import FPDF\n",
        "from datetime import date\n",
        "\n",
        "def generate_pdf_report(accuracy, report, importance_df, cm, y_pred_proba):\n",
        "    pdf = FPDF()\n",
        "    pdf.add_page()\n",
        "    pdf.set_font(\"Arial\", size=12)\n",
        "\n",
        "    # Executive Summary\n",
        "    pdf.cell(200, 10, txt=\"Executive Summary\", ln=True, align=\"C\")\n",
        "    pdf.cell(200, 10, txt=\"This report summarizes the analysis of thyroid cancer recurrence using CatBoost.\", ln=True, align=\"L\")\n",
        "    pdf.multi_cell(0, 10, txt=f\"The model achieved an accuracy of {accuracy*100:.2f}%. This indicates how well the model can predict whether thyroid cancer will recur. \", align=\"L\")\n",
        "    pdf.multi_cell(0, 10, txt=f\"The classification report provides a detailed breakdown of the model's performance for each class (recurrence or no recurrence):\\n{report}\", align=\"L\")\n",
        "    pdf.multi_cell(0, 10, txt=\"Precision measures how many of the positive predictions made by the model were actually correct. For instance, a precision of 0.8 for recurrence means 80% of the cases predicted as recurrence were actually recurrences.\", align=\"L\")\n",
        "    pdf.multi_cell(0, 10, txt=\"Recall measures how many of the actual positive cases the model was able to correctly identify. A high recall indicates the model is good at detecting actual recurrence cases.\", align=\"L\")\n",
        "    pdf.multi_cell(0, 10, txt=\"The F1-score, a harmonic mean of precision and recall, provides a balanced assessment of the model's performance. It considers both false positives and false negatives.\", align=\"L\")\n",
        "    pdf.multi_cell(0, 10, txt=\"Support is the number of samples in each class (recurrence and no recurrence). It gives an idea of the data distribution.\", align=\"L\")\n",
        "\n",
        "    # Feature Importance Plot\n",
        "    plt.figure(figsize=(12, 10))\n",
        "    plt.barh(importance_df['Feature'], importance_df['Importance'])\n",
        "    plt.xlabel(\"Feature Importance\")\n",
        "    plt.title(\"Detailed Feature Importance Analysis\")\n",
        "    plt.gca().invert_yaxis()\n",
        "    plt.tight_layout()\n",
        "    plt.savefig(\"feature_importance.png\")\n",
        "    pdf.image(\"feature_importance.png\", w=180)\n",
        "    pdf.multi_cell(0, 10, txt=\"The feature importance plot above shows the relative importance of each feature in predicting recurrence. By identifying the most important features, we can gain insights into the key factors driving recurrence and potentially focus on these for further investigation or treatment strategies.\", align=\"L\")\n",
        "    plt.close()\n",
        "\n",
        "    # Confusion Matrix\n",
        "    plt.figure(figsize=(10, 7))\n",
        "    sns.heatmap(cm, annot=True, fmt='d', cmap='Blues')\n",
        "    plt.xlabel('Predicted')\n",
        "    plt.ylabel('Actual')\n",
        "    plt.title('Confusion Matrix')\n",
        "    plt.savefig(\"confusion_matrix.png\")\n",
        "    pdf.image(\"confusion_matrix.png\", w=150)\n",
        "    pdf.multi_cell(0, 10, txt=\"The confusion matrix illustrates the model's performance by showing the number of true positives, true negatives, false positives, and false negatives. This helps us understand where the model is making correct predictions and where it's making errors, allowing for targeted improvement.\", align=\"L\")\n",
        "    plt.close()\n",
        "\n",
        "    # Distribution of Predicted Probabilities\n",
        "    plt.figure(figsize=(10, 7))\n",
        "    sns.histplot(y_pred_proba, bins=30, kde=True)\n",
        "    plt.xlabel('Predicted Probability of Recurrence')\n",
        "    plt.title('Distribution of Predicted Probabilities')\n",
        "    plt.savefig(\"predicted_probabilities.png\")\n",
        "    pdf.image(\"predicted_probabilities.png\", w=150)\n",
        "    pdf.multi_cell(0, 10, txt=\"The distribution of predicted probabilities shows how confident the model is in its predictions. A higher peak towards the right indicates greater confidence in predicting recurrence, which can be useful for clinical decision-making.\", align=\"L\")\n",
        "    plt.close()\n",
        "\n",
        "    pdf.output(\"thyroid_cancer_report.pdf\")\n",
        "\n",
        "# Call the function to generate the PDF\n",
        "generate_pdf_report(accuracy, report, importance_df, cm, y_pred_proba)"
      ],
      "metadata": {
        "id": "tvpWyMo-h7l5"
      },
      "execution_count": null,
      "outputs": []
    }
  ]
}